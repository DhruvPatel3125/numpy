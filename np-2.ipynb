{
 "cells": [
  {
   "cell_type": "code",
   "execution_count": 3,
   "id": "d785d4b6-6066-4031-8eaf-1f5224678b8b",
   "metadata": {},
   "outputs": [],
   "source": [
    "import numpy as np\n"
   ]
  },
  {
   "cell_type": "code",
   "execution_count": 5,
   "id": "9e2cb1b5-9de9-4f9d-8106-de259c4c5b8a",
   "metadata": {},
   "outputs": [],
   "source": [
    "a1 = np.array([7,8,6])\n",
    "a2 = np.array([3,4,1])"
   ]
  },
  {
   "cell_type": "code",
   "execution_count": 9,
   "id": "0258efc7-e1d3-4e9c-a9b3-617922b64f6d",
   "metadata": {},
   "outputs": [
    {
     "name": "stdout",
     "output_type": "stream",
     "text": [
      "[7 8 6 3 4 1]\n"
     ]
    }
   ],
   "source": [
    "a3=np.concatenate((a1,a2))\n",
    "print(a3)"
   ]
  },
  {
   "cell_type": "code",
   "execution_count": 11,
   "id": "d95a7847-aab1-400f-9d95-d566b9b8457b",
   "metadata": {},
   "outputs": [],
   "source": [
    "a1 = np.array([[7,8,6],[1,0,9]])\n",
    "a2 = np.array([[3,4,1],[2,3,4]])"
   ]
  },
  {
   "cell_type": "code",
   "execution_count": 25,
   "id": "3debba34-ce1d-449d-b84d-c980b01127a0",
   "metadata": {},
   "outputs": [
    {
     "name": "stdout",
     "output_type": "stream",
     "text": [
      "[[7 8 6 3 4 1]\n",
      " [1 0 9 2 3 4]]\n"
     ]
    }
   ],
   "source": [
    "a3=np.hstack((a1,a2))\n",
    "print(a3)"
   ]
  },
  {
   "cell_type": "code",
   "execution_count": 1,
   "id": "30d8abeb-ef18-47f7-be40-1cc152f8db82",
   "metadata": {},
   "outputs": [],
   "source": [
    "import numpy as np\n"
   ]
  },
  {
   "cell_type": "code",
   "execution_count": 3,
   "id": "0a6f3a91-7607-4d0a-935e-6f0057506e6c",
   "metadata": {},
   "outputs": [
    {
     "name": "stdout",
     "output_type": "stream",
     "text": [
      "11\n",
      "22\n",
      "33\n",
      "44\n",
      "55\n"
     ]
    }
   ],
   "source": [
    "a1=np.array([11,22,33,44,55])\n",
    "for v in a1:\n",
    "    print(v)"
   ]
  },
  {
   "cell_type": "code",
   "execution_count": 21,
   "id": "d6999204-9fc7-4ead-a839-425e1a888b0f",
   "metadata": {},
   "outputs": [
    {
     "name": "stdout",
     "output_type": "stream",
     "text": [
      "[[11 22 33]\n",
      " [77 88 99]]\n",
      "[[12 25 36]\n",
      " [52 62 42]]\n"
     ]
    }
   ],
   "source": [
    "a2=np.array([[[11,22,33],[77,88,99]],[[12,25,36],[52,62,42]]])\n",
    "for v in a2:\n",
    "    print(v)"
   ]
  },
  {
   "cell_type": "code",
   "execution_count": 33,
   "id": "92120c8d-c4bd-422c-94f6-da24f63616e9",
   "metadata": {},
   "outputs": [
    {
     "name": "stdout",
     "output_type": "stream",
     "text": [
      "11\n",
      "22\n",
      "33\n",
      "77\n",
      "88\n",
      "99\n",
      "12\n",
      "25\n",
      "36\n",
      "52\n",
      "62\n",
      "42\n"
     ]
    }
   ],
   "source": [
    "for n in np.nditer(a2):\n",
    "    print(n)"
   ]
  },
  {
   "cell_type": "code",
   "execution_count": 37,
   "id": "b2600d6c-8acf-4177-9898-2847fa73f599",
   "metadata": {},
   "outputs": [
    {
     "name": "stdout",
     "output_type": "stream",
     "text": [
      "11\n",
      "22\n",
      "33\n"
     ]
    }
   ],
   "source": [
    "for n in np.nditer(a2[0,::2]):\n",
    "    print(n)"
   ]
  },
  {
   "cell_type": "code",
   "execution_count": 31,
   "id": "9a0bfa4f-3039-406e-93c3-64c9eca5b0e3",
   "metadata": {},
   "outputs": [
    {
     "name": "stdout",
     "output_type": "stream",
     "text": [
      "11\n",
      "22\n",
      "33\n",
      "44\n",
      "55\n"
     ]
    }
   ],
   "source": [
    "for n in np.nditer(a1):\n",
    "    print(n)"
   ]
  },
  {
   "cell_type": "code",
   "execution_count": null,
   "id": "290e5e72-dcc7-4b9d-ad57-a11ee7123cd2",
   "metadata": {},
   "outputs": [],
   "source": []
  }
 ],
 "metadata": {
  "kernelspec": {
   "display_name": "Python 3 (ipykernel)",
   "language": "python",
   "name": "python3"
  },
  "language_info": {
   "codemirror_mode": {
    "name": "ipython",
    "version": 3
   },
   "file_extension": ".py",
   "mimetype": "text/x-python",
   "name": "python",
   "nbconvert_exporter": "python",
   "pygments_lexer": "ipython3",
   "version": "3.12.4"
  }
 },
 "nbformat": 4,
 "nbformat_minor": 5
}
